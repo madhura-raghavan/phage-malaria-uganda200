{
 "cells": [
  {
   "cell_type": "code",
   "execution_count": 53,
   "metadata": {},
   "outputs": [
    {
     "name": "stdout",
     "output_type": "stream",
     "text": [
      "32\n"
     ]
    },
    {
     "data": {
      "text/plain": [
       "64"
      ]
     },
     "execution_count": 53,
     "metadata": {},
     "output_type": "execute_result"
    }
   ],
   "source": [
    "## List of all STEVOR proteins we started with - collect seq as dictionary \n",
    "\n",
    "fh = open('PlasmoDB-33_Pfalciparum3D7_AnnotatedProteins.known.A.fasta','r')\n",
    "\n",
    "stevor_seq = {}\n",
    "\n",
    "for line in fh: \n",
    "    if line[0] == '>':\n",
    "          if ('Stevor' in line) or ('STEVOR' in line) or ('stevor' in line): \n",
    "            gene = line[1:].strip('\\n').replace('|',':')\n",
    "            gene = gene.replace(',','_')\n",
    "            gene = gene.split('.')[0].strip(' ')\n",
    "            stevor_seq[gene]= next(fh).strip('\\n')\n",
    "fh.close()\n",
    "print (len(stevor_seq))\n",
    "fh = open('PlasmoDB-33_PfalciparumIT_AnnotatedProteins.known.A.fasta','r')\n",
    "\n",
    "\n",
    "for line in fh: \n",
    "    if line[0] == '>':\n",
    "          if ('Stevor' in line) or ('STEVOR' in line) or ('stevor' in line): \n",
    "            gene = line[1:].strip('\\n').replace('|',':')\n",
    "            gene = gene.replace(',','_')\n",
    "            gene = gene.split('.')[0].strip(' ')\n",
    "            stevor_seq[gene]= next(fh).strip('\\n')\n",
    "fh.close()\n",
    "len(stevor_seq)\n",
    "    \n"
   ]
  },
  {
   "cell_type": "code",
   "execution_count": 23,
   "metadata": {},
   "outputs": [
    {
     "data": {
      "text/plain": [
       "188"
      ]
     },
     "execution_count": 23,
     "metadata": {},
     "output_type": "execute_result"
    }
   ],
   "source": [
    "# Collect all hit STEVOR peptides in the dataset \n",
    "\n",
    "\n",
    "import re \n",
    "f = open('HITS_Round2_Pfonly_250kfil_techclean_3zscorefil_5patientsfil_allhits_sequences_9227.fa','r')\n",
    "\n",
    "### forming a new one bec of incompatability with the ID of the whole set \n",
    "stevor_hits = {} ## tuple of (gene name, product,sequence) \n",
    "\n",
    "i = 0\n",
    "for line in f: \n",
    "    name = line.lstrip(\">\")\n",
    "    name = name.strip(\"\\n\")\n",
    "    name = name.replace('|',':')\n",
    "   \n",
    "    if re.search(r'stevor|STEVOR|Stevor',name):\n",
    "        \n",
    "        gene = name.split(\":\")[0] \n",
    "        product = 'stevor'\n",
    "\n",
    "\n",
    "        stevor_hits[name] = (next(f).strip('\\n'))\n",
    "       \n",
    "    i = i+1\n",
    "f.close()\n",
    "\n",
    "\n",
    "len(stevor_hits)"
   ]
  },
  {
   "cell_type": "code",
   "execution_count": 31,
   "metadata": {},
   "outputs": [],
   "source": [
    "## For each STEVOR peptide, identify all the STEVOR proteins that it aligns to \n",
    "\n",
    "from collections import defaultdict \n",
    "stevor_peptides_all_proteins = defaultdict(set)\n",
    "\n",
    "for pep in stevor_hits: \n",
    "    seq = stevor_hits[pep]\n",
    "    \n",
    "    stevor_peptides_all_proteins[pep] = set([(stevorprtn.strip('\\n')) for stevorprtn,prtnseq in stevor_seq.items() if (seq in prtnseq) ])\n",
    "    \n"
   ]
  },
  {
   "cell_type": "code",
   "execution_count": 32,
   "metadata": {},
   "outputs": [],
   "source": [
    "## All the peptides belong to the C1 domain - so further domain classification was not done \n"
   ]
  },
  {
   "cell_type": "code",
   "execution_count": 33,
   "metadata": {},
   "outputs": [],
   "source": [
    "import pandas as pd \n",
    "\n",
    "df_meta = pd.read_excel(\"Ugandan_samples_metadata.xlsx\",header=0,index_col = 'Barcode',engine='openpyxl') ##sample name is the index\n",
    "\n",
    "\n",
    "df_hits = pd.read_csv('HITS_Round2_Pfonly_250kfil_techclean_3zscorefil_5patientsfil.csv',header=0,index_col=0)\n",
    "df_hits = df_hits.filter(regex='CK3|CT3',axis=1)\n",
    "\n",
    "df_hits_meta_combined = pd.merge(df_hits.T, df_meta, left_index=True, right_index=True)\n",
    "\n",
    "def childadult(row):\n",
    "    age = row.age\n",
    "    \n",
    "    if (age >=7) & (age <= 11):\n",
    "        status = 'child_7_11'\n",
    "        \n",
    "    elif (age >= 2) & (age < 4):\n",
    "        status = 'child_2_4'\n",
    "   \n",
    "    elif (age >= 4) & (age < 7):\n",
    "        status = 'child_4_7'\n",
    "        \n",
    "    else:\n",
    "        status = 'adult'\n",
    "    \n",
    "    return status\n",
    "    \n",
    "def agecut(row):\n",
    "    age = row.age\n",
    "    \n",
    "    if (age >= 2) & (age < 4):\n",
    "        agecut = '2-4'\n",
    "        \n",
    "    elif (age >= 4) & (age < 7):\n",
    "        agecut = '4-7'\n",
    "    elif (age >= 7) & (age < 11):\n",
    "        agecut = '7-11'\n",
    "    else:\n",
    "        agecut = '>18'\n",
    "    return agecut\n",
    "\n",
    "df_hits_meta_combined['status'] = df_hits_meta_combined.apply(childadult,axis=1)\n",
    "df_hits_meta_combined['agecut'] = df_hits_meta_combined.apply(agecut,axis=1)\n",
    "\n",
    "\n",
    "child_2_4_eir = df_hits_meta_combined[df_hits_meta_combined['status'] == 'child_2_4'].eir_geom3\n",
    "# print \"EIR quantiles for children, min, 33%, 50%, 66%, max \\n\"\n",
    "# print child_eir.quantile(q=0).round(2),child_eir.quantile(q=0.33).round(2),child_eir.quantile(q=0.5).round(2),child_eir.quantile(q=0.66).round(2),child_eir.quantile(q=1).round(2),\"\\n\"\n",
    "child_4_7_eir = df_hits_meta_combined[df_hits_meta_combined['status'] == 'child_4_7'].eir_geom3\n",
    "child_7_11_eir = df_hits_meta_combined[df_hits_meta_combined['status'] == 'child_7_11'].eir_geom3\n",
    "\n",
    "adult_eir = df_hits_meta_combined[df_hits_meta_combined['status'] == 'adult'].eir_geom3\n",
    "# print \"\\n EIR quantiles for adults, min, 33%, 50%, 66%, max \\n\"\n",
    "# print adult_eir.quantile(q=0).round(2),adult_eir.quantile(q=0.33).round(2),adult_eir.quantile(q=0.5).round(2),adult_eir.quantile(q=0.66).round(2),adult_eir.quantile(q=1).round(2),\"\\n\"\n",
    "\n",
    "\n",
    "def eircut(row):\n",
    "    eir = row.eir_geom3\n",
    "    status = row.status\n",
    "    \n",
    "    if status == 'child_2_4':\n",
    "        eir_50percent = child_2_4_eir.quantile(q=0.5)\n",
    "        \n",
    "    elif status == 'child_4_7':\n",
    "        eir_50percent = child_4_7_eir.quantile(q=0.5)\n",
    "        \n",
    "    elif status == 'child_7_11':\n",
    "        eir_50percent = child_7_11_eir.quantile(q=0.5)\n",
    "                      \n",
    "    elif status == 'adult':\n",
    "        eir_50percent = adult_eir.quantile(q=0.5)\n",
    "        \n",
    "    \n",
    "                 \n",
    "    if eir <= eir_50percent:\n",
    "        eir_cut = 'low'\n",
    "        return eir_cut\n",
    "                    \n",
    "    else:\n",
    "        eir_cut = 'high'\n",
    "        return eir_cut\n",
    "        \n",
    "df_hits_meta_combined['eircut'] = df_hits_meta_combined.apply(eircut,axis=1)\n"
   ]
  },
  {
   "cell_type": "code",
   "execution_count": 34,
   "metadata": {},
   "outputs": [],
   "source": [
    "### Calculate breadth of reactivity to different stevor domains per person \n",
    "\n",
    "## GO  THROUGH EACh sample and get the list of stevor peptides hit in that sample \n",
    "## Collect the set of proteins all of these peptides refer to\n",
    "## This gives the overall breadth of stevor prpoteins reacted to in that sample \n",
    " \n",
    "### Calculate breadth of reactivity to different stevor domains per person \n",
    "\n",
    "\n",
    "samples = list(df_hits.iloc[:,:199])\n",
    "\n",
    "for person in samples:\n",
    "    person_stevor_set = set()\n",
    "    temp = df_hits[df_hits[person]==1]\n",
    "    \n",
    "    for pep in temp.index:\n",
    "        pep = pep.replace('|',':')\n",
    "        if pep in stevor_peptides_all_proteins:\n",
    "            stevor_proteins = stevor_peptides_all_proteins[pep]\n",
    "            person_stevor_set.update(stevor_proteins)\n",
    "        \n",
    "    ## All the peptides belong to the C1 domain - so further domain classification was not done \n",
    "\n",
    "    \n",
    "    df_hits_meta_combined.loc[person,'C1'] = len([s for s in person_stevor_set]) \n",
    " "
   ]
  },
  {
   "cell_type": "code",
   "execution_count": 51,
   "metadata": {},
   "outputs": [
    {
     "data": {
      "image/png": "[encoded data removed]",
      "text/plain": [
       "<Figure size 360x216 with 1 Axes>"
      ]
     },
     "metadata": {
      "needs_background": "light"
     },
     "output_type": "display_data"
    }
   ],
   "source": [
    "from matplotlib import pyplot as plt\n",
    "import seaborn as sns \n",
    "palette = {'high':'darkorange','low':'blue'}\n",
    "\n",
    "fig, ax = plt.subplots(figsize=(5,3))\n",
    "\n",
    "sns.boxplot(x=\"status\", y=\"C1\", data=df_hits_meta_combined , order = ['child_2_4','child_4_7','child_7_11','adult'],  dodge=True,hue= 'eircut',hue_order=['low','high'],ax=ax,palette=palette,\n",
    "            ).set_title('Total')\n",
    "\n",
    "\n",
    "#sns.stripplot(x=\"status\", y=\"C1\", data=df_hits_meta_combined , order = ['child_2_4','child_4_7','child_7_11','adult'],  dodge=True,hue= 'eircut',hue_order=['low','high'],ax=ax).set_title('C1 domain')\n",
    "ax.set_ylim(0,70)\n",
    "# get legend information from the plot object\n",
    "handles, labels = ax.get_legend_handles_labels()\n",
    "plt.legend(bbox_to_anchor=(1.05, 1), loc=2, borderaxespad=0.,fontsize=15)\n",
    "ax.set_xticklabels(ax.get_xmajorticklabels(), fontsize = 15,rotation = 30)\n",
    "#ax.set_yticklabels(ax.get_ymajorticklabels(), fontsize = 15)\n",
    "plt.xlabel('')\n",
    "plt.ylabel('# stevor variants recognized',fontsize = 15)\n",
    "\n",
    "plt.savefig('Fig_2d_STEVOR_overallbreadth.pdf',dpi=800,bbox_inches='tight')\n",
    "plt.show()\n",
    "\n"
   ]
  },
  {
   "cell_type": "code",
   "execution_count": 43,
   "metadata": {},
   "outputs": [
    {
     "name": "stdout",
     "output_type": "stream",
     "text": [
      "0.0\n",
      "1.0\n",
      "0.0\n",
      "2.0\n",
      "19.0\n",
      "23.5\n",
      "11.0\n",
      "1.0\n"
     ]
    }
   ],
   "source": [
    "print (df_hits_meta_combined[(df_hits_meta_combined['status'] =='child_2_4')&(df_hits_meta_combined['eircut'] =='low')]['C1'].median())\n",
    "print (df_hits_meta_combined[(df_hits_meta_combined['status'] =='child_4_7')&(df_hits_meta_combined['eircut'] =='low')]['C1'].median())\n",
    "print (df_hits_meta_combined[(df_hits_meta_combined['status'] =='child_7_11')&(df_hits_meta_combined['eircut'] =='low')]['C1'].median())\n",
    "print (df_hits_meta_combined[(df_hits_meta_combined['status'] =='adult')&(df_hits_meta_combined['eircut'] =='low')]['C1'].median())\n",
    "\n",
    "print (df_hits_meta_combined[(df_hits_meta_combined['status'] =='child_2_4')&(df_hits_meta_combined['eircut'] =='high')]['C1'].median())\n",
    "print (df_hits_meta_combined[(df_hits_meta_combined['status'] =='child_4_7')&(df_hits_meta_combined['eircut'] =='high')]['C1'].median())\n",
    "print (df_hits_meta_combined[(df_hits_meta_combined['status'] =='child_7_11')&(df_hits_meta_combined['eircut'] =='high')]['C1'].median())\n",
    "print (df_hits_meta_combined[(df_hits_meta_combined['status'] =='adult')&(df_hits_meta_combined['eircut'] =='high')]['C1'].median())\n"
   ]
  },
  {
   "cell_type": "code",
   "execution_count": 46,
   "metadata": {},
   "outputs": [
    {
     "name": "stdout",
     "output_type": "stream",
     "text": [
      "KstestResult(statistic=0.26666666666666666, pvalue=0.6264044041932786)\n",
      "KstestResult(statistic=0.23333333333333334, pvalue=0.39294501397971776)\n",
      "KstestResult(statistic=0.3, pvalue=0.13500350250095441)\n",
      "KstestResult(statistic=0.26666666666666666, pvalue=0.23907300248018645)\n",
      "KstestResult(statistic=0.37547892720306514, pvalue=0.22033616740497797)\n",
      "KstestResult(statistic=0.46436781609195404, pvalue=0.0014651306808306508)\n",
      "KstestResult(statistic=0.32068965517241377, pvalue=0.07594816080171707)\n",
      "KstestResult(statistic=0.26666666666666666, pvalue=0.23907300248018645)\n"
     ]
    }
   ],
   "source": [
    "a = df_hits_meta_combined[(df_hits_meta_combined['status'] =='child_2_4')&(df_hits_meta_combined['eircut'] =='low')]['C1']\n",
    "b = df_hits_meta_combined[(df_hits_meta_combined['status'] =='child_4_7')&(df_hits_meta_combined['eircut'] =='low')]['C1']\n",
    "c =df_hits_meta_combined[(df_hits_meta_combined['status'] =='child_7_11')&(df_hits_meta_combined['eircut'] =='low')]['C1']\n",
    "d =df_hits_meta_combined[(df_hits_meta_combined['status'] =='adult')&(df_hits_meta_combined['eircut'] =='low')]['C1']\n",
    "\n",
    "e=df_hits_meta_combined[(df_hits_meta_combined['status'] =='child_2_4')&(df_hits_meta_combined['eircut'] =='high')]['C1']\n",
    "f=df_hits_meta_combined[(df_hits_meta_combined['status'] =='child_4_7')&(df_hits_meta_combined['eircut'] =='high')]['C1']\n",
    "g=df_hits_meta_combined[(df_hits_meta_combined['status'] =='child_7_11')&(df_hits_meta_combined['eircut'] =='high')]['C1']\n",
    "h=df_hits_meta_combined[(df_hits_meta_combined['status'] =='adult')&(df_hits_meta_combined['eircut'] =='high')]['C1']\n",
    "\n",
    "from scipy import stats \n",
    "\n",
    "print (stats.ks_2samp(a,d))\n",
    "print (stats.ks_2samp(b,d))\n",
    "print (stats.ks_2samp(c,d))\n",
    "print (stats.ks_2samp(b,c))\n",
    "\n",
    "print (stats.ks_2samp(e,h))\n",
    "print (stats.ks_2samp(f,h))\n",
    "print (stats.ks_2samp(g,h))\n",
    "print (stats.ks_2samp(f,g))"
   ]
  },
  {
   "cell_type": "code",
   "execution_count": null,
   "metadata": {},
   "outputs": [],
   "source": []
  }
 ],
 "metadata": {
  "kernelspec": {
   "display_name": "Python 3",
   "language": "python",
   "name": "python3"
  },
  "language_info": {
   "codemirror_mode": {
    "name": "ipython",
    "version": 3
   },
   "file_extension": ".py",
   "mimetype": "text/x-python",
   "name": "python",
   "nbconvert_exporter": "python",
   "pygments_lexer": "ipython3",
   "version": "3.8.3"
  }
 },
 "nbformat": 4,
 "nbformat_minor": 4
}
