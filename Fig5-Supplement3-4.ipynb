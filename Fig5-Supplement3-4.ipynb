{
 "cells": [
  {
   "cell_type": "code",
   "execution_count": 1,
   "metadata": {},
   "outputs": [
    {
     "name": "stdout",
     "output_type": "stream",
     "text": [
      "(5171, 291)\n",
      "The number of peptides WITH repeats is 2372\n",
      "The number of peptides WITHOUT repeats is 2799\n",
      "0\n",
      "50\n",
      "100\n",
      "150\n"
     ]
    },
    {
     "name": "stderr",
     "output_type": "stream",
     "text": [
      "/data/madhura/anaconda3/lib/python3.8/site-packages/pandas/core/indexing.py:671: SettingWithCopyWarning: \n",
      "A value is trying to be set on a copy of a slice from a DataFrame\n",
      "\n",
      "See the caveats in the documentation: https://pandas.pydata.org/pandas-docs/stable/user_guide/indexing.html#returning-a-view-versus-a-copy\n",
      "  self._setitem_with_indexer(indexer, value)\n"
     ]
    },
    {
     "name": "stdout",
     "output_type": "stream",
     "text": [
      "0\n",
      "50\n",
      "100\n",
      "150\n"
     ]
    }
   ],
   "source": [
    "import pandas as pd \n",
    "import numpy as np \n",
    "\n",
    "## Collecting the non-VSA peptides and the repeat motifs present in them \n",
    "## 7-mer repeats with conservative subs allowed at all positions \n",
    "\n",
    "df_hits = pd.read_csv('HITS_Round2_Pfonly_250kfil_techclean_3zscorefil_5patientsfil_withrepeatinfo_7mer_conservativesubs.csv',header=0,index_col=0)\n",
    "\n",
    "print (df_hits.shape)\n",
    "\n",
    "## Classifying peptides into repeats and non-repeats \n",
    "\n",
    "def repeat(row):\n",
    "    \n",
    "    freq = row.max_freq\n",
    "    if freq >= 3:\n",
    "        repeat = 'yes'\n",
    "    else:\n",
    "        repeat = 'no'\n",
    "    return repeat\n",
    "\n",
    "df_hits['repeat'] = df_hits.apply(repeat,axis=1)\n",
    " \n",
    "df_hits_repeat = df_hits[df_hits['repeat']=='yes']\n",
    "df_hits_norepeat = df_hits[df_hits['repeat']=='no']\n",
    "\n",
    "print ('The number of peptides WITH repeats is ' + str(df_hits_repeat.shape[0]))\n",
    "print ('The number of peptides WITHOUT repeats is ' + str(df_hits_norepeat.shape[0]))\n",
    "\n",
    "## Take the peptides with repeats and collapse them based on repeat similarity so that repeat containing peptides are not redundantly counted \n",
    "\n",
    "import ast \n",
    "def collapse(df):\n",
    "    motif_list = []\n",
    "    for index, row in df.iterrows():\n",
    "       \n",
    "        motif = list(ast.literal_eval((row.sevenmer).split('-p1')[1]))\n",
    "        motif = set([(row.sevenmer).split('-p1')[0]+x for x in motif]) ## retain the protein with the motifs so that motifs across proteins aree not collapsed \n",
    "        motif_list.append(motif)\n",
    "\n",
    "### collect the indices of rows that represent redundant motifs once and remove rows that share at least one motif element with these indices\n",
    "    ### Rationale is that if they share the samee element for top sevenmer, then their sevenmer freq will be same too \n",
    "    unique = set()\n",
    "    common = set()\n",
    "    i = 0\n",
    "    for i in range(0,len(motif_list)):\n",
    "        if i not in common:\n",
    "            for j in range(0,len(motif_list)):\n",
    "                if i != j:\n",
    "                    match = motif_list[i].intersection(motif_list[j])\n",
    "                    \n",
    "                    if len(match)>0:\n",
    "                        unique.add(i)\n",
    "                        common.add(j)\n",
    "                    else:\n",
    "                        unique.add(i)  \n",
    "                                   \n",
    "    return list(unique)\n",
    "\n",
    "df_hits_repeat_collpased = df_hits_repeat.iloc[:,np.r_[0:199,-3,-2,-1]]\n",
    "df_hits_norepeat_collpased = df_hits_norepeat.iloc[:,np.r_[0:199,-3,-2,-1]]\n",
    "\n",
    "collapsed_hit_count=[]\n",
    "for i in range(0,199): ## collapsing peptide hits in each sample \n",
    "    if i%50 == 0:\n",
    "        print (i)\n",
    "    re_sample_df = df_hits_repeat_collpased.iloc[:,[i,-3]]\n",
    "    re_sample_df.columns = ['sample','sevenmer']\n",
    "    re_sample_df = re_sample_df[re_sample_df['sample']>0] ## only collect peptides which are hits in that sample \n",
    " \n",
    "    re_retained_rowindex = collapse(re_sample_df)\n",
    "    ### remove IT orthologs of Antigen 332, gametocyte specific protein and FIKK \n",
    "    nhits = (re_sample_df.iloc[re_retained_rowindex].drop(re_sample_df.iloc[re_retained_rowindex].filter(regex='PFIT_1149200|PFIT_1037600|PFIT_0422900',axis=0).index,axis=0).shape[0])\n",
    "    collapsed_hit_count.append(nhits)\n",
    "\n",
    "collapsed_hit_count.append('NA') ## foor last column of max_sevenmer\n",
    "collapsed_hit_count.append('NA') \n",
    "collapsed_hit_count.append('NA') \n",
    "df_hits_repeat_collpased.loc['repeat hits'] = collapsed_hit_count\n",
    "\n",
    "### collapse the non-repeats as well so that overlapping peptides are counted once \n",
    "\n",
    "collapsed_hit_count=[]\n",
    "for i in range(0,199): ## collapsing peptide hits in each sample \n",
    "    if i%50 == 0:\n",
    "        print (i)\n",
    "    re_sample_df = df_hits_norepeat_collpased.iloc[:,[i,-3]]\n",
    "    re_sample_df.columns = ['sample','sevenmer']\n",
    "    re_sample_df = re_sample_df[re_sample_df['sample']>0] ## only collect peptides which are hits in that sample \n",
    " \n",
    "    re_retained_rowindex = collapse(re_sample_df)\n",
    "    ### remove IT orthologs of Antigen 332, gametocyte specific protein and FIKK \n",
    "    nhits = (re_sample_df.iloc[re_retained_rowindex].drop(re_sample_df.iloc[re_retained_rowindex].filter(regex='PFIT_1149200|PFIT_1037600|PFIT_0422900',axis=0).index,axis=0).shape[0])\n",
    "    collapsed_hit_count.append(nhits)\n",
    "\n",
    "collapsed_hit_count.append('NA') ## foor last column of max_sevenmer\n",
    "collapsed_hit_count.append('NA') \n",
    "collapsed_hit_count.append('NA') \n",
    "df_hits_norepeat_collpased.loc['NO repeat hits'] = collapsed_hit_count\n",
    "\n"
   ]
  },
  {
   "cell_type": "code",
   "execution_count": 2,
   "metadata": {},
   "outputs": [
    {
     "name": "stdout",
     "output_type": "stream",
     "text": [
      "The number of repeat peptides is \n",
      "202\n",
      "The number of NO repeat peptides is \n",
      "202\n",
      "(198, 20)\n",
      "(198, 20)\n"
     ]
    }
   ],
   "source": [
    "import pandas as pd\n",
    "import warnings\n",
    "warnings.filterwarnings('ignore')\n",
    "import statistics\n",
    "\n",
    "df_meta = pd.read_excel(\"Meta_data/200_samples_metadata_updated.xlsx\",header=0,index_col = 'Barcode',engine='openpyxl') ##sample name is the index\n",
    "\n",
    "# df_hits_nonrepeat = df_hits_norepeat.filter(regex='CK3|CT3',axis=1)\n",
    "# df_hits_nonrepeat.loc['NO repeat hits'] = df_hits_nonrepeat.sum(axis=0)\n",
    "\n",
    "# print (\"The number of repeat peptides is \")\n",
    "# print (df_hits_repeat_collpased.shape[1])\n",
    "# print (\"The number of NO repeat peptides is \")\n",
    "# print (df_hits_nonrepeat.shape[1])\n",
    "\n",
    "print (\"The number of repeat peptides is \")\n",
    "print (df_hits_repeat_collpased.shape[1])\n",
    "print (\"The number of NO repeat peptides is \")\n",
    "print (df_hits_norepeat_collpased.shape[1])\n",
    "\n",
    "\n",
    "## Breadth of NON-Repeeat peptides sharing motifs with other genes \n",
    "\n",
    "df_hits_nonrepeat_meta_combined = pd.merge(df_hits_norepeat_collpased.loc['NO repeat hits'], df_meta, left_index=True, right_index=True)\n",
    "print (df_hits_nonrepeat_meta_combined.shape)\n",
    "\n",
    "df_hits_repeat_meta_combined = pd.merge(df_hits_repeat_collpased.loc['repeat hits'], df_meta, left_index=True, right_index=True)\n",
    "print (df_hits_repeat_meta_combined.shape)\n",
    "\n",
    "\n",
    "from matplotlib import pyplot as plt \n",
    "import seaborn as sns\n",
    "import scipy\n",
    "sns.set(font_scale=1.2)\n",
    "sns.set_style(\"whitegrid\", {'axes.grid' : False})\n",
    "\n",
    "def childadult(row):\n",
    "    age = row.age\n",
    "\n",
    "#     if (age >=7) & (age <= 11):\n",
    "#         status = 'child_7_11'\n",
    "\n",
    "#     elif (age >= 2) & (age < 4):\n",
    "#         status = 'child_2_3'\n",
    "\n",
    "#     elif (age >= 4) & (age < 7):\n",
    "#         status = 'child_4_6'\n",
    "\n",
    "    if (age >=2) & (age <= 11):\n",
    "        status = 'child'\n",
    "    else:\n",
    "        status = 'adult'\n",
    "\n",
    "    return status\n",
    "\n",
    "def agecut(row):\n",
    "    age = row.age\n",
    "\n",
    "    if (age >= 2) & (age < 4):\n",
    "        agecut = '2-3'\n",
    "\n",
    "    elif (age >= 4) & (age < 7):\n",
    "        agecut = '4-6'\n",
    "    elif (age >= 7) & (age < 11):\n",
    "        agecut = '7-11'\n",
    "    else:\n",
    "        agecut = '>18'\n",
    "    return agecut\n",
    "\n",
    "df_hits_nonrepeat_meta_combined['status'] = df_hits_nonrepeat_meta_combined.apply(childadult,axis=1)\n",
    "df_hits_nonrepeat_meta_combined['agecut'] = df_hits_nonrepeat_meta_combined.apply(agecut,axis=1)\n",
    "\n",
    "\n",
    "child_eir_geom3 = df_hits_nonrepeat_meta_combined[df_hits_nonrepeat_meta_combined['status'] == 'child'].eir_geom3\n",
    "adult_eir_geom3 = df_hits_nonrepeat_meta_combined[df_hits_nonrepeat_meta_combined['status'] == 'adult'].eir_geom3\n",
    "\n",
    "df_hits_repeat_meta_combined['status'] = df_hits_repeat_meta_combined.apply(childadult,axis=1)\n",
    "df_hits_repeat_meta_combined['agecut'] = df_hits_repeat_meta_combined.apply(agecut,axis=1)\n",
    "\n",
    "\n",
    "child_eir_geom3 = df_hits_repeat_meta_combined[df_hits_repeat_meta_combined['status'] == 'child'].eir_geom3\n",
    "adult_eir_geom3 = df_hits_repeat_meta_combined[df_hits_repeat_meta_combined['status'] == 'adult'].eir_geom3\n",
    "\n",
    "\n",
    "def eircut(row):\n",
    "    eir = row.eir_geom3\n",
    "    status = row.status\n",
    "\n",
    "    if status == 'child':\n",
    "        eir_50percent = child_eir_geom3.quantile(q=0.5)\n",
    "        eir_75percent = child_eir_geom3.quantile(q=0.75)\n",
    "        eir_25percent = child_eir_geom3.quantile(q=0.25)\n",
    "\n",
    "    elif status == 'adult':\n",
    "        eir_50percent = adult_eir_geom3.quantile(q=0.5)\n",
    "        eir_75percent = adult_eir_geom3.quantile(q=0.75)\n",
    "        eir_25percent = adult_eir_geom3.quantile(q=0.25)\n",
    "\n",
    "\n",
    "    if eir <= eir_50percent:\n",
    "        eir_cut = 'moderate'\n",
    "    else:\n",
    "        eir_cut = 'high'\n",
    "    return eir_cut\n",
    "\n",
    "df_hits_repeat_meta_combined['eircut'] = df_hits_repeat_meta_combined.apply(eircut,axis=1)\n",
    "df_hits_nonrepeat_meta_combined['eircut'] = df_hits_nonrepeat_meta_combined.apply(eircut,axis=1)\n",
    "\n",
    "\n"
   ]
  },
  {
   "cell_type": "markdown",
   "metadata": {},
   "source": [
    "# Figure 5 - supplement 4 \n",
    "\n",
    "## Effect on time since infection on repeats "
   ]
  },
  {
   "cell_type": "code",
   "execution_count": 5,
   "metadata": {},
   "outputs": [
    {
     "name": "stdout",
     "output_type": "stream",
     "text": [
      "(13, 24)\n",
      "(7, 24)\n",
      "(15, 24)\n",
      "(15, 24)\n",
      "(12, 24)\n"
     ]
    }
   ],
   "source": [
    "kan_act = df_hits_repeat_meta_combined[(df_hits_repeat_meta_combined['siteid']=='Kanungu') &(df_hits_repeat_meta_combined['age']<18)  &(df_hits_repeat_meta_combined['tsi']<=30)]\n",
    "kan_act['infected'] = '0-30'\n",
    "print (kan_act.shape)\n",
    "\n",
    "kan_3060 = df_hits_repeat_meta_combined[(df_hits_repeat_meta_combined['siteid']=='Kanungu') &(df_hits_repeat_meta_combined['age']<18)  &(df_hits_repeat_meta_combined['tsi']> 30)&(df_hits_repeat_meta_combined['tsi']< 60)]\n",
    "kan_3060['infected'] = '30-60'\n",
    "print (kan_3060.shape)\n",
    "\n",
    "kan_mid = df_hits_repeat_meta_combined[(df_hits_repeat_meta_combined['siteid']=='Kanungu') &(df_hits_repeat_meta_combined['age']<18)&(df_hits_repeat_meta_combined['tsi']>= 60)&(df_hits_repeat_meta_combined['tsi']< 120)]\n",
    "kan_mid['infected'] = '60-120'\n",
    "print (kan_mid.shape)\n",
    "\n",
    "kan_late = df_hits_repeat_meta_combined[(df_hits_repeat_meta_combined['siteid']=='Kanungu') &(df_hits_repeat_meta_combined['age']<18)&(df_hits_repeat_meta_combined['tsi']>= 120)&(df_hits_repeat_meta_combined['tsi']<= 240)]\n",
    "kan_late['infected'] = '120-240'\n",
    "print (kan_late.shape)\n",
    "\n",
    "kan_solate = df_hits_repeat_meta_combined[(df_hits_repeat_meta_combined['siteid']=='Kanungu') &(df_hits_repeat_meta_combined['age']<18)&(df_hits_repeat_meta_combined['tsi']>240)&(df_hits_repeat_meta_combined['tsi']<= 360)]\n",
    "kan_solate['infected'] = '240-360'\n",
    "print (kan_solate.shape)\n",
    "\n",
    "kan_repeat = pd.concat([kan_act,kan_3060,kan_mid,kan_late,kan_solate])"
   ]
  },
  {
   "cell_type": "code",
   "execution_count": 7,
   "metadata": {},
   "outputs": [
    {
     "name": "stdout",
     "output_type": "stream",
     "text": [
      "(46, 24)\n",
      "(13, 24)\n",
      "(10, 24)\n",
      "(0, 24)\n",
      "(0, 24)\n"
     ]
    }
   ],
   "source": [
    "tor_act = df_hits_repeat_meta_combined[(df_hits_repeat_meta_combined['siteid']=='Tororo') &(df_hits_repeat_meta_combined['age']<18)  &(df_hits_repeat_meta_combined['tsi']<=30)]\n",
    "tor_act['infected'] = '0-30'\n",
    "print (tor_act.shape)\n",
    "\n",
    "tor_3060 = df_hits_repeat_meta_combined[(df_hits_repeat_meta_combined['siteid']=='Tororo') &(df_hits_repeat_meta_combined['age']<18)  &(df_hits_repeat_meta_combined['tsi']> 30)&(df_hits_repeat_meta_combined['tsi']< 60)]\n",
    "tor_3060['infected'] = '30-60'\n",
    "print (tor_3060.shape)\n",
    "\n",
    "tor_mid = df_hits_repeat_meta_combined[(df_hits_repeat_meta_combined['siteid']=='Tororo') &(df_hits_repeat_meta_combined['age']<18)&(df_hits_repeat_meta_combined['tsi']>= 60)&(df_hits_repeat_meta_combined['tsi']< 120)]\n",
    "tor_mid['infected'] = '60-120'\n",
    "print (tor_mid.shape)\n",
    "\n",
    "tor_late = df_hits_repeat_meta_combined[(df_hits_repeat_meta_combined['siteid']=='Tororo') &(df_hits_repeat_meta_combined['age']<18)&(df_hits_repeat_meta_combined['tsi']>= 120)&(df_hits_repeat_meta_combined['tsi']<= 240)]\n",
    "tor_late['infected'] = '120-240'\n",
    "print (tor_late.shape)\n",
    "\n",
    "tor_solate = df_hits_repeat_meta_combined[(df_hits_repeat_meta_combined['siteid']=='Tororo') &(df_hits_repeat_meta_combined['age']<18)&(df_hits_repeat_meta_combined['tsi']>240)&(df_hits_repeat_meta_combined['tsi']<= 360)]\n",
    "tor_solate['infected'] = '240-360'\n",
    "print (tor_solate.shape)\n",
    "\n",
    "tor_repeat = pd.concat([tor_act,tor_3060,tor_mid,tor_late,tor_solate])"
   ]
  },
  {
   "cell_type": "code",
   "execution_count": 8,
   "metadata": {},
   "outputs": [
    {
     "data": {
      "text/plain": [
       "<matplotlib.legend.Legend at 0x7f510cbaa310>"
      ]
     },
     "execution_count": 8,
     "metadata": {},
     "output_type": "execute_result"
    },
    {
     "data": {
      "image/png": "[encoded data removed]",
      "text/plain": [
       "<Figure size 432x288 with 1 Axes>"
      ]
     },
     "metadata": {},
     "output_type": "display_data"
    }
   ],
   "source": [
    "sns.swarmplot(x=\"infected\", y=\"repeat hits\", data=tor_repeat, dodge=True)\n",
    "#sns.violinplot(x=\"infected\", y=\"repeat hits\", data=children_repeat,hue= 'siteid')\n",
    "\n",
    "sns.boxplot(medianprops={'visible': True,'color':'black'},\n",
    "            whiskerprops={'visible': False},\n",
    "            zorder=10,\n",
    "            x=\"infected\", y=\"repeat hits\", data=tor_repeat,hue= 'siteid', dodge= True,\n",
    "            showfliers=False,\n",
    "            showbox=True,\n",
    "            showcaps=False,\n",
    "            boxprops={'facecolor':'none', 'edgecolor':'grey'})\n",
    "plt.xlabel('Time since last infection (days)')\n",
    "plt.ylim(0,150)\n",
    "plt.title('High EIR')\n",
    "plt.legend(bbox_to_anchor=(1.04, 1), loc=\"upper left\")\n",
    "#plt.savefig('tsi_tororo.pdf',dpi=500)"
   ]
  },
  {
   "cell_type": "code",
   "execution_count": 13,
   "metadata": {},
   "outputs": [
    {
     "name": "stdout",
     "output_type": "stream",
     "text": [
      "KstestResult(statistic=0.3347826086956522, pvalue=0.25334125009106223)\n",
      "64.0\n",
      "53.0\n",
      "53.5\n",
      "nan\n",
      "nan\n"
     ]
    }
   ],
   "source": [
    "import scipy \n",
    "\n",
    "x =tor_act['repeat hits'] \n",
    "x3060 = tor_3060['repeat hits'] \n",
    "y = tor_mid['repeat hits']\n",
    "\n",
    "z=  tor_late['repeat hits'] \n",
    "a =  tor_solate['repeat hits'] \n",
    "\n",
    "\n",
    "print(scipy.stats.ks_2samp(x,y)) \n",
    "\n",
    "\n",
    "\n",
    "\n",
    "print (x.median())\n",
    "print(x3060.median())\n",
    "print(y.median())\n",
    "print (z.median())\n",
    "print(a.median())\n"
   ]
  },
  {
   "cell_type": "code",
   "execution_count": 10,
   "metadata": {},
   "outputs": [
    {
     "data": {
      "text/plain": [
       "<matplotlib.legend.Legend at 0x7f510c9a9f70>"
      ]
     },
     "execution_count": 10,
     "metadata": {},
     "output_type": "execute_result"
    },
    {
     "data": {
      "image/png": "[encoded data removed]",
      "text/plain": [
       "<Figure size 432x288 with 1 Axes>"
      ]
     },
     "metadata": {},
     "output_type": "display_data"
    }
   ],
   "source": [
    "sns.swarmplot(x=\"infected\", y=\"repeat hits\", data=kan_repeat, dodge=True)\n",
    "#sns.violinplot(x=\"infected\", y=\"repeat hits\", data=children_repeat,hue= 'siteid')\n",
    "\n",
    "sns.boxplot(medianprops={'visible': True,'color':'black'},\n",
    "            whiskerprops={'visible': False},\n",
    "            zorder=10,\n",
    "            x=\"infected\", y=\"repeat hits\", data=kan_repeat,hue= 'siteid', dodge= True,\n",
    "            showfliers=False,\n",
    "            showbox=True,\n",
    "            showcaps=False,\n",
    "            boxprops={'facecolor':'none', 'edgecolor':'grey'})\n",
    "plt.ylim(0,150)\n",
    "plt.title('Moderate EIR')\n",
    "plt.xlabel('Time since last infection (days)')\n",
    "plt.legend(bbox_to_anchor=(1.04, 1), loc=\"upper left\")\n",
    "#plt.savefig('tsi_kanungu.pdf',dpi=500)"
   ]
  },
  {
   "cell_type": "code",
   "execution_count": 12,
   "metadata": {},
   "outputs": [
    {
     "name": "stdout",
     "output_type": "stream",
     "text": [
      "KstestResult(statistic=0.4717948717948718, pvalue=0.05993372177246192)\n",
      "KstestResult(statistic=0.2717948717948718, pvalue=0.5512036698737466)\n",
      "KstestResult(statistic=0.5384615384615384, pvalue=0.024277830125185362)\n",
      "KstestResult(statistic=0.3, pvalue=0.49578517084237916)\n",
      "KstestResult(statistic=0.4666666666666667, pvalue=0.0783453157123909)\n",
      "KstestResult(statistic=0.3333333333333333, pvalue=0.3855465198257425)\n",
      "42.0\n",
      "40.0\n",
      "30.0\n",
      "33.0\n",
      "26.0\n"
     ]
    }
   ],
   "source": [
    "import scipy \n",
    "\n",
    "x =kan_act['repeat hits'] \n",
    "x3060 = kan_3060['repeat hits'] \n",
    "y = kan_mid['repeat hits']\n",
    "\n",
    "z=  kan_late['repeat hits'] \n",
    "a =  kan_solate['repeat hits'] \n",
    "\n",
    "\n",
    "print(scipy.stats.ks_2samp(x,y)) \n",
    "\n",
    "\n",
    "print(scipy.stats.ks_2samp(x,z))\n",
    "\n",
    "\n",
    "print(scipy.stats.ks_2samp(x,a))\n",
    "print(scipy.stats.ks_2samp(y,a))\n",
    "print(scipy.stats.ks_2samp(z,a))\n",
    "print(scipy.stats.ks_2samp(y,z))\n",
    "\n",
    "\n",
    "\n",
    "print (x.median())\n",
    "print(x3060.median())\n",
    "print(y.median())\n",
    "print (z.median())\n",
    "print(a.median())\n",
    "\n"
   ]
  },
  {
   "cell_type": "markdown",
   "metadata": {},
   "source": [
    "## Effect on time since infection on non-repeats "
   ]
  },
  {
   "cell_type": "code",
   "execution_count": 35,
   "metadata": {},
   "outputs": [
    {
     "data": {
      "image/png": "[encoded data removed]",
      "text/plain": [
       "<Figure size 432x288 with 1 Axes>"
      ]
     },
     "metadata": {},
     "output_type": "display_data"
    }
   ],
   "source": [
    "kan_act = df_hits_nonrepeat_meta_combined[(df_hits_nonrepeat_meta_combined['siteid']=='Kanungu') &(df_hits_nonrepeat_meta_combined['age']<18)  &(df_hits_nonrepeat_meta_combined['tsi']<=30)]\n",
    "kan_act['infected'] = '0-30'\n",
    "\n",
    "\n",
    "kan_mid = df_hits_nonrepeat_meta_combined[(df_hits_nonrepeat_meta_combined['siteid']=='Kanungu') &(df_hits_nonrepeat_meta_combined['age']<18)&(df_hits_nonrepeat_meta_combined['tsi']>= 60)&(df_hits_nonrepeat_meta_combined['tsi']< 120)]\n",
    "kan_mid['infected'] = '60-120'\n",
    "\n",
    "\n",
    "kan_late = df_hits_nonrepeat_meta_combined[(df_hits_nonrepeat_meta_combined['siteid']=='Kanungu') &(df_hits_nonrepeat_meta_combined['age']<18)&(df_hits_nonrepeat_meta_combined['tsi']>= 120)&(df_hits_nonrepeat_meta_combined['tsi']<= 240)]\n",
    "kan_late['infected'] = '120-240'\n",
    "\n",
    "kan_solate = df_hits_nonrepeat_meta_combined[(df_hits_nonrepeat_meta_combined['siteid']=='Kanungu') &(df_hits_nonrepeat_meta_combined['age']<18)&(df_hits_nonrepeat_meta_combined['tsi']>240)&(df_hits_nonrepeat_meta_combined['tsi']<= 360)]\n",
    "kan_solate['infected'] = '240-360'\n",
    "\n",
    "kan_nonrepeat = pd.concat([kan_act,kan_mid,kan_late,kan_solate])\n",
    "\n",
    "sns.swarmplot(x=\"infected\", y=\"NO repeat hits\", data=kan_nonrepeat, dodge=True)\n",
    "#sns.violinplot(x=\"infected\", y=\"repeat hits\", data=children_repeat,hue= 'siteid')\n",
    "\n",
    "sns.boxplot(medianprops={'visible': True,'color':'black'},\n",
    "            whiskerprops={'visible': False},\n",
    "            zorder=10,\n",
    "            x=\"infected\", y=\"NO repeat hits\", data=kan_nonrepeat,hue= 'siteid', dodge= True,\n",
    "            showfliers=False,\n",
    "            showbox=True,\n",
    "            showcaps=False,\n",
    "            boxprops={'facecolor':'none', 'edgecolor':'grey'})\n",
    "plt.ylim(0,200)\n",
    "plt.title('Moderate EIR')\n",
    "plt.xlabel('Time since last infection (days)')\n",
    "\n",
    "plt.legend(bbox_to_anchor=(1.04, 1), loc=\"upper left\")\n",
    "plt.savefig('tsi_kanungu_nonrepeats.pdf')"
   ]
  },
  {
   "cell_type": "code",
   "execution_count": 36,
   "metadata": {},
   "outputs": [
    {
     "name": "stdout",
     "output_type": "stream",
     "text": [
      "KstestResult(statistic=0.48205128205128206, pvalue=0.054136620323186446)\n",
      "KstestResult(statistic=0.2564102564102564, pvalue=0.6388289564490938)\n",
      "KstestResult(statistic=0.26282051282051283, pvalue=0.6906278483933619)\n",
      "KstestResult(statistic=0.4, pvalue=0.18441617684449832)\n",
      "KstestResult(statistic=0.4666666666666667, pvalue=0.0783453157123909)\n",
      "96.0\n",
      "81.0\n",
      "96.0\n",
      "96.5\n"
     ]
    }
   ],
   "source": [
    "import scipy \n",
    "\n",
    "x =kan_act['NO repeat hits'] \n",
    "y = kan_mid['NO repeat hits']\n",
    "\n",
    "z=  kan_late['NO repeat hits'] \n",
    "a =  kan_solate['NO repeat hits'] \n",
    "\n",
    "\n",
    "print(scipy.stats.ks_2samp(x,y)) \n",
    "\n",
    "\n",
    "print(scipy.stats.ks_2samp(x,z))\n",
    "\n",
    "\n",
    "print(scipy.stats.ks_2samp(x,a))\n",
    "print(scipy.stats.ks_2samp(y,z))\n",
    "print(scipy.stats.ks_2samp(y,a))\n",
    "\n",
    "\n",
    "\n",
    "print (x.median())\n",
    "print(y.median())\n",
    "print (z.median())\n",
    "print(a.median())\n"
   ]
  },
  {
   "cell_type": "code",
   "execution_count": 37,
   "metadata": {
    "scrolled": false
   },
   "outputs": [
    {
     "name": "stdout",
     "output_type": "stream",
     "text": [
      "KstestResult(statistic=0.27391304347826084, pvalue=0.4790529072473483)\n",
      "98.5\n",
      "88.5\n",
      "nan\n",
      "nan\n"
     ]
    },
    {
     "data": {
      "image/png": "[encoded data removed]",
      "text/plain": [
       "<Figure size 432x288 with 1 Axes>"
      ]
     },
     "metadata": {},
     "output_type": "display_data"
    }
   ],
   "source": [
    "tor_act = df_hits_nonrepeat_meta_combined[(df_hits_nonrepeat_meta_combined['siteid']=='Tororo') &(df_hits_nonrepeat_meta_combined['age']<18)  &(df_hits_nonrepeat_meta_combined['tsi']<=30)]\n",
    "tor_act['infected'] = '0-30'\n",
    "\n",
    "\n",
    "tor_mid = df_hits_nonrepeat_meta_combined[(df_hits_nonrepeat_meta_combined['siteid']=='Tororo') &(df_hits_nonrepeat_meta_combined['age']<18)&(df_hits_nonrepeat_meta_combined['tsi']>= 60)&(df_hits_nonrepeat_meta_combined['tsi']< 120)]\n",
    "tor_mid['infected'] = '60-120'\n",
    "\n",
    "\n",
    "tor_late = df_hits_nonrepeat_meta_combined[(df_hits_nonrepeat_meta_combined['siteid']=='Tororo') &(df_hits_nonrepeat_meta_combined['age']<18)&(df_hits_nonrepeat_meta_combined['tsi']>= 120)&(df_hits_nonrepeat_meta_combined['tsi']<= 240)]\n",
    "tor_late['infected'] = '120-240'\n",
    "\n",
    "tor_solate = df_hits_nonrepeat_meta_combined[(df_hits_nonrepeat_meta_combined['siteid']=='Tororo') &(df_hits_nonrepeat_meta_combined['age']<18)&(df_hits_nonrepeat_meta_combined['tsi']>240)&(df_hits_nonrepeat_meta_combined['tsi']<= 360)]\n",
    "tor_solate['infected'] = '240-360'\n",
    "\n",
    "tor_nonrepeat = pd.concat([tor_act,tor_mid,tor_late,tor_solate])\n",
    "\n",
    "sns.swarmplot(x=\"infected\", y=\"NO repeat hits\", data=tor_nonrepeat, dodge=True)\n",
    "#sns.violinplot(x=\"infected\", y=\"repeat hits\", data=children_repeat,hue= 'siteid')\n",
    "\n",
    "sns.boxplot(medianprops={'visible': True,'color':'black'},\n",
    "            whiskerprops={'visible': False},\n",
    "            zorder=10,\n",
    "            x=\"infected\", y=\"NO repeat hits\", data=tor_nonrepeat,hue= 'siteid', dodge= True,\n",
    "            showfliers=False,\n",
    "            showbox=True,\n",
    "            showcaps=False,\n",
    "            boxprops={'facecolor':'none', 'edgecolor':'grey'})\n",
    "plt.ylim(0,200)\n",
    "plt.title('High EIR')\n",
    "plt.xlabel('Time since last infection (days)')\n",
    "\n",
    "plt.legend(bbox_to_anchor=(1.04, 1), loc=\"upper left\")\n",
    "plt.savefig('tsi_tororo_nonrepeats.pdf')\n",
    "\n",
    "import scipy \n",
    "\n",
    "x =tor_act['NO repeat hits'] \n",
    "y = tor_mid['NO repeat hits']\n",
    "\n",
    "z=  tor_late['NO repeat hits'] \n",
    "a =  tor_solate['NO repeat hits'] \n",
    "\n",
    "\n",
    "print(scipy.stats.ks_2samp(x,y)) \n",
    "\n",
    "\n",
    "\n",
    "\n",
    "print (x.median())\n",
    "print(y.median())\n",
    "print (z.median())\n",
    "print(a.median())\n"
   ]
  },
  {
   "cell_type": "markdown",
   "metadata": {},
   "source": [
    "# Figure 5 - supplement 3\n",
    "\n",
    "## Effect on exposure on repeats "
   ]
  },
  {
   "cell_type": "code",
   "execution_count": 56,
   "metadata": {},
   "outputs": [
    {
     "name": "stdout",
     "output_type": "stream",
     "text": [
      "(11, 24)\n",
      "(9, 24)\n",
      "(15, 24)\n",
      "(44, 24)\n",
      "(15, 24)\n",
      "(10, 24)\n"
     ]
    }
   ],
   "source": [
    "\n",
    "kan_children_active = df_hits_repeat_meta_combined[(df_hits_repeat_meta_combined['siteid']=='Kanungu') &(df_hits_repeat_meta_combined['age']<18)  &(df_hits_repeat_meta_combined['tsi']==0)]\n",
    "kan_children_active['infected'] = '0'\n",
    "print (kan_children_active.shape)\n",
    "\n",
    "kan_children_early = df_hits_repeat_meta_combined[(df_hits_repeat_meta_combined['siteid']=='Kanungu') &(df_hits_repeat_meta_combined['age']<18)  &(df_hits_repeat_meta_combined['tsi']>= 1)&(df_hits_repeat_meta_combined['tsi']< 60)]\n",
    "kan_children_early['infected'] = '1-59'\n",
    "print (kan_children_early.shape)\n",
    "\n",
    "kan_children_late = df_hits_repeat_meta_combined[(df_hits_repeat_meta_combined['siteid']=='Kanungu') &(df_hits_repeat_meta_combined['age']<18)&(df_hits_repeat_meta_combined['tsi']>= 60)&(df_hits_repeat_meta_combined['tsi']<= 120)]\n",
    "kan_children_late['infected'] = '60-120'\n",
    "print (kan_children_late.shape)\n",
    "\n",
    "tor_children_active = df_hits_repeat_meta_combined[(df_hits_repeat_meta_combined['siteid']=='Tororo') &(df_hits_repeat_meta_combined['age']<18)&(df_hits_repeat_meta_combined['tsi']==0)]\n",
    "tor_children_active['infected'] = '0'\n",
    "print (tor_children_active.shape)\n",
    "\n",
    "tor_children_early = df_hits_repeat_meta_combined[(df_hits_repeat_meta_combined['siteid']=='Tororo') &(df_hits_repeat_meta_combined['age']<18)  &(df_hits_repeat_meta_combined['tsi']>= 1)&(df_hits_repeat_meta_combined['tsi']< 60)]\n",
    "tor_children_early['infected'] = '1-59'\n",
    "print (tor_children_early.shape)\n",
    "\n",
    "\n",
    "tor_children_late = df_hits_repeat_meta_combined[(df_hits_repeat_meta_combined['siteid']=='Tororo') &(df_hits_repeat_meta_combined['age']<18)  &(df_hits_repeat_meta_combined['tsi']>= 60)&(df_hits_repeat_meta_combined['tsi']<= 120)]\n",
    "tor_children_late['infected'] = '60-120'\n",
    "print (tor_children_late.shape)\n",
    "\n",
    "#children_repeat = pd.concat([kan_children_active.sample(n=10),kan_children_late.sample(n=10),tor_children_active.sample(n=10),tor_children_late.sample(n=10)])\n",
    "\n",
    "children_repeat = pd.concat([kan_children_active,kan_children_early, kan_children_late,tor_children_active,tor_children_early,tor_children_late])\n"
   ]
  },
  {
   "cell_type": "code",
   "execution_count": 57,
   "metadata": {},
   "outputs": [
    {
     "data": {
      "image/png": "[encoded data removed]",
      "text/plain": [
       "<Figure size 432x288 with 1 Axes>"
      ]
     },
     "metadata": {},
     "output_type": "display_data"
    }
   ],
   "source": [
    "palette = {'moderate':'blue','high':'darkorange'}\n",
    "\n",
    "children_repeat['repeat hits'] = children_repeat['repeat hits'].astype('float64')\n",
    "sns.swarmplot(x=\"infected\", y=\"repeat hits\", data=children_repeat, dodge=True,hue= 'siteid')\n",
    "#sns.violinplot(x=\"infected\", y=\"repeat hits\", data=children_repeat,hue= 'siteid')\n",
    "\n",
    "sns.boxplot(medianprops={'visible': True,'color':'black'},\n",
    "            whiskerprops={'visible': False},\n",
    "            zorder=10,\n",
    "            x=\"infected\", y=\"repeat hits\", data=children_repeat,hue= 'siteid', dodge= True,\n",
    "            showfliers=False,\n",
    "            showbox=True,\n",
    "            showcaps=False,\n",
    "            boxprops={'facecolor':'none', 'edgecolor':'grey'})\n",
    "plt.title('Effect of EIR')\n",
    "plt.xlabel('Time since last infection (days)')\n",
    "\n",
    "#plt.ylim(0,150)\n",
    "plt.legend(bbox_to_anchor=(1.04, 1), loc=\"upper left\")\n",
    "#plt.savefig('eir_repeats.pdf')\n"
   ]
  },
  {
   "cell_type": "code",
   "execution_count": 41,
   "metadata": {},
   "outputs": [
    {
     "name": "stdout",
     "output_type": "stream",
     "text": [
      "Kanungu yes and no\n",
      "KstestResult(statistic=0.5696969696969697, pvalue=0.02048262008552748)\n",
      "Tororo yes and no\n",
      "KstestResult(statistic=0.33181818181818185, pvalue=0.2679160461476544)\n",
      "Places yes\n",
      "KstestResult(statistic=0.5454545454545454, pvalue=0.007125575840078446)\n",
      "Places no\n",
      "KstestResult(statistic=0.7333333333333333, pvalue=0.001467223044824384)\n",
      "43.0\n",
      "30.0\n",
      "63.0\n",
      "53.5\n"
     ]
    }
   ],
   "source": [
    "import scipy \n",
    "\n",
    "x = children_repeat[(children_repeat['infected']=='0')& (children_repeat['siteid']=='Kanungu')]['repeat hits'] \n",
    "y = children_repeat[(children_repeat['infected']=='60-120')& (children_repeat['siteid']=='Kanungu')]['repeat hits']\n",
    "\n",
    "z=  children_repeat[(children_repeat['infected']=='0')& (children_repeat['siteid']=='Tororo')]['repeat hits'] \n",
    "a =  children_repeat[(children_repeat['infected']=='60-120')& (children_repeat['siteid']=='Tororo')]['repeat hits'] \n",
    "\n",
    "print ('Kanungu yes and no')\n",
    "print(scipy.stats.ks_2samp(x,y)) \n",
    "\n",
    "print ('Tororo yes and no')\n",
    "print(scipy.stats.ks_2samp(z,a))\n",
    "\n",
    "print ('Places yes')\n",
    "print(scipy.stats.ks_2samp(z,x))\n",
    "\n",
    "print ('Places no')\n",
    "print(scipy.stats.ks_2samp(a,y)) \n",
    " \n",
    "\n",
    "\n",
    "print (x.median())\n",
    "print(y.median())\n",
    "print (z.median())\n",
    "print(a.median())\n"
   ]
  },
  {
   "cell_type": "markdown",
   "metadata": {},
   "source": [
    "## Effect on exposure on non-repeats "
   ]
  },
  {
   "cell_type": "code",
   "execution_count": 45,
   "metadata": {},
   "outputs": [
    {
     "name": "stdout",
     "output_type": "stream",
     "text": [
      "(11, 24)\n",
      "(15, 24)\n",
      "(44, 24)\n",
      "(10, 24)\n"
     ]
    }
   ],
   "source": [
    "\n",
    "\n",
    "kan_children_active = df_hits_nonrepeat_meta_combined[(df_hits_nonrepeat_meta_combined['siteid']=='Kanungu') &(df_hits_nonrepeat_meta_combined['age']<18)  &(df_hits_nonrepeat_meta_combined['tsi']==0)]\n",
    "kan_children_active['infected'] = '0'\n",
    "print (kan_children_active.shape)\n",
    "\n",
    "kan_children_late = df_hits_nonrepeat_meta_combined[(df_hits_nonrepeat_meta_combined['siteid']=='Kanungu') &(df_hits_nonrepeat_meta_combined['age']<18)&(df_hits_nonrepeat_meta_combined['tsi']>= 60)&(df_hits_nonrepeat_meta_combined['tsi']<= 120)]\n",
    "kan_children_late['infected'] = '60-120'\n",
    "print (kan_children_late.shape)\n",
    "\n",
    "tor_children_active = df_hits_nonrepeat_meta_combined[(df_hits_nonrepeat_meta_combined['siteid']=='Tororo') &(df_hits_nonrepeat_meta_combined['age']<18)&(df_hits_nonrepeat_meta_combined['tsi']==0)]\n",
    "tor_children_active['infected'] = '0'\n",
    "print (tor_children_active.shape)\n",
    "\n",
    "tor_children_late = df_hits_nonrepeat_meta_combined[(df_hits_nonrepeat_meta_combined['siteid']=='Tororo') &(df_hits_nonrepeat_meta_combined['age']<18)  &(df_hits_nonrepeat_meta_combined['tsi']>= 60)&(df_hits_nonrepeat_meta_combined['tsi']<= 120)]\n",
    "tor_children_late['infected'] = '60-120'\n",
    "print (tor_children_late.shape)\n",
    "\n",
    "children_nonrepeat = pd.concat([kan_children_active,kan_children_late,tor_children_active,tor_children_late])\n"
   ]
  },
  {
   "cell_type": "code",
   "execution_count": 46,
   "metadata": {},
   "outputs": [
    {
     "data": {
      "image/png": "[encoded data removed]",
      "text/plain": [
       "<Figure size 432x288 with 1 Axes>"
      ]
     },
     "metadata": {},
     "output_type": "display_data"
    }
   ],
   "source": [
    "palette = {'moderate':'blue','high':'darkorange'}\n",
    "\n",
    "sns.swarmplot(x=\"infected\", y=\"NO repeat hits\", data=children_nonrepeat, dodge=True,hue= 'siteid')\n",
    "sns.boxplot(medianprops={'visible': True,'color':'black'},\n",
    "            whiskerprops={'visible': False},\n",
    "            zorder=10,\n",
    "            x=\"infected\", y=\"NO repeat hits\", data=children_nonrepeat,hue= 'siteid', dodge= True,\n",
    "            showfliers=False,\n",
    "            showbox=True,\n",
    "            showcaps=False,\n",
    "            boxprops={'facecolor':'none', 'edgecolor':'grey'})\n",
    "#plt.ylim(0,200)\n",
    "plt.legend(bbox_to_anchor=(1.04, 1), loc=\"upper left\")\n",
    "plt.title('Effect of EIR')\n",
    "plt.xlabel('Time since last infection (days)')\n",
    "\n",
    "plt.savefig('eir_nonrepeats.pdf',dpi=500)"
   ]
  },
  {
   "cell_type": "code",
   "execution_count": 48,
   "metadata": {},
   "outputs": [
    {
     "name": "stdout",
     "output_type": "stream",
     "text": [
      "Kanungu yes and no\n",
      "KstestResult(statistic=0.593939393939394, pvalue=0.013578802406370105)\n",
      "Tororo yes and no\n",
      "KstestResult(statistic=0.2590909090909091, pvalue=0.5527141187159196)\n",
      "Places yes\n",
      "KstestResult(statistic=0.3181818181818182, pvalue=0.300259004541819)\n",
      "Places no\n",
      "KstestResult(statistic=0.3333333333333333, pvalue=0.46227315556969617)\n",
      "97.0\n",
      "81.0\n",
      "98.0\n",
      "88.5\n"
     ]
    }
   ],
   "source": [
    "import scipy \n",
    "\n",
    "x = children_nonrepeat[(children_nonrepeat['infected']=='0')& (children_nonrepeat['siteid']=='Kanungu')]['NO repeat hits'] \n",
    "y = children_nonrepeat[(children_nonrepeat['infected']=='60-120')& (children_nonrepeat['siteid']=='Kanungu')]['NO repeat hits']\n",
    "\n",
    "z=  children_nonrepeat[(children_nonrepeat['infected']=='0')& (children_nonrepeat['siteid']=='Tororo')]['NO repeat hits'] \n",
    "a =  children_nonrepeat[(children_nonrepeat['infected']=='60-120')& (children_nonrepeat['siteid']=='Tororo')]['NO repeat hits'] \n",
    "\n",
    "print ('Kanungu yes and no')\n",
    "print(scipy.stats.ks_2samp(x,y)) \n",
    "\n",
    "print ('Tororo yes and no')\n",
    "print(scipy.stats.ks_2samp(z,a))\n",
    "\n",
    "print ('Places yes')\n",
    "print(scipy.stats.ks_2samp(z,x))\n",
    "\n",
    "print ('Places no')\n",
    "print(scipy.stats.ks_2samp(a,y)) \n",
    " \n",
    "\n",
    "print (x.median())\n",
    "print(y.median())\n",
    "print (z.median())\n",
    "print(a.median())\n"
   ]
  },
  {
   "cell_type": "code",
   "execution_count": null,
   "metadata": {},
   "outputs": [],
   "source": []
  }
 ],
 "metadata": {
  "kernelspec": {
   "display_name": "Python 3",
   "language": "python",
   "name": "python3"
  },
  "language_info": {
   "codemirror_mode": {
    "name": "ipython",
    "version": 3
   },
   "file_extension": ".py",
   "mimetype": "text/x-python",
   "name": "python",
   "nbconvert_exporter": "python",
   "pygments_lexer": "ipython3",
   "version": "3.8.3"
  }
 },
 "nbformat": 4,
 "nbformat_minor": 4
}
